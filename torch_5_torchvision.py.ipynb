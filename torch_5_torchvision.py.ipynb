{
 "cells": [
  {
   "cell_type": "code",
   "execution_count": 1,
   "id": "820370fd",
   "metadata": {},
   "outputs": [
    {
     "name": "stderr",
     "output_type": "stream",
     "text": [
      "/Users/daniyar/opt/miniconda3/envs/nightly_venv/lib/python3.8/site-packages/torchvision/io/image.py:13: UserWarning: Failed to load image Python extension: dlopen(/Users/daniyar/opt/miniconda3/envs/nightly_venv/lib/python3.8/site-packages/torchvision/image.so, 0x0006): Library not loaded: @rpath/libpng16.16.dylib\n",
      "  Referenced from: /Users/daniyar/opt/miniconda3/envs/nightly_venv/lib/python3.8/site-packages/torchvision/image.so\n",
      "  Reason: tried: '/Users/daniyar/opt/miniconda3/envs/nightly_venv/lib/libpng16.16.dylib' (no such file), '/Users/daniyar/opt/miniconda3/envs/nightly_venv/lib/libpng16.16.dylib' (no such file), '/Users/daniyar/opt/miniconda3/envs/nightly_venv/lib/python3.8/lib-dynload/../../libpng16.16.dylib' (no such file), '/Users/daniyar/opt/miniconda3/envs/nightly_venv/lib/libpng16.16.dylib' (no such file), '/Users/daniyar/opt/miniconda3/envs/nightly_venv/bin/../lib/libpng16.16.dylib' (no such file), '/usr/local/lib/libpng16.16.dylib' (no such file), '/usr/lib/libpng16.16.dylib' (no such file)\n",
      "  warn(f\"Failed to load image Python extension: {e}\")\n"
     ]
    }
   ],
   "source": [
    "import torch\n",
    "import numpy as np \n",
    "from torch.utils.data import TensorDataset, DataLoader\n",
    "import torchvision as vision\n",
    "from torchvision.datasets import MNIST\n",
    "import matplotlib.pyplot as plt"
   ]
  },
  {
   "cell_type": "code",
   "execution_count": 51,
   "id": "8a534af6",
   "metadata": {},
   "outputs": [
    {
     "name": "stdout",
     "output_type": "stream",
     "text": [
      "60000\n",
      "10000\n"
     ]
    }
   ],
   "source": [
    "dataset = MNIST(root = 'data/', download = True)\n",
    "print(len(dataset))\n",
    "test_dataset = MNIST(root = 'data/', train = False, transform = transforms.ToTensor())\n",
    "print(len(test_dataset))"
   ]
  },
  {
   "cell_type": "code",
   "execution_count": 3,
   "id": "7b09c4cc",
   "metadata": {},
   "outputs": [],
   "source": [
    "%matplotlib inline"
   ]
  },
  {
   "cell_type": "code",
   "execution_count": 4,
   "id": "f6012c2e",
   "metadata": {},
   "outputs": [
    {
     "name": "stdout",
     "output_type": "stream",
     "text": [
      "Label: 5\n"
     ]
    },
    {
     "data": {
      "image/png": "[encoded data removed]",
      "text/plain": [
       "<Figure size 432x288 with 1 Axes>"
      ]
     },
     "metadata": {
      "needs_background": "light"
     },
     "output_type": "display_data"
    }
   ],
   "source": [
    "image, label = dataset[0]\n",
    "plt.imshow(image, cmap = 'gray')\n",
    "print('Label:', label)"
   ]
  },
  {
   "cell_type": "code",
   "execution_count": 5,
   "id": "a7fe6082",
   "metadata": {},
   "outputs": [
    {
     "name": "stdout",
     "output_type": "stream",
     "text": [
      "Label: 4\n"
     ]
    },
    {
     "data": {
      "image/png": "[encoded data removed]",
      "text/plain": [
       "<Figure size 432x288 with 1 Axes>"
      ]
     },
     "metadata": {
      "needs_background": "light"
     },
     "output_type": "display_data"
    }
   ],
   "source": [
    "image, label = dataset[20]\n",
    "plt.imshow(image, cmap = 'gray')\n",
    "print('Label:', label)"
   ]
  },
  {
   "cell_type": "code",
   "execution_count": 6,
   "id": "e8f93bee",
   "metadata": {},
   "outputs": [],
   "source": [
    "import torchvision.transforms as transforms"
   ]
  },
  {
   "cell_type": "code",
   "execution_count": 7,
   "id": "9042f40c",
   "metadata": {},
   "outputs": [],
   "source": [
    "dataset = MNIST(root='data/', \n",
    "                train=True,\n",
    "                transform=transforms.ToTensor())"
   ]
  },
  {
   "cell_type": "code",
   "execution_count": 8,
   "id": "f5b03ee0",
   "metadata": {},
   "outputs": [
    {
     "name": "stdout",
     "output_type": "stream",
     "text": [
      "torch.Size([1, 28, 28]) 5\n"
     ]
    }
   ],
   "source": [
    "img_tensor, label = dataset[0]\n",
    "print(img_tensor.shape, label)"
   ]
  },
  {
   "cell_type": "code",
   "execution_count": 9,
   "id": "1f347a72",
   "metadata": {},
   "outputs": [
    {
     "data": {
      "text/plain": [
       "<matplotlib.image.AxesImage at 0x138ea1250>"
      ]
     },
     "execution_count": 9,
     "metadata": {},
     "output_type": "execute_result"
    },
    {
     "data": {
      "image/png": "[encoded data removed]",
      "text/plain": [
       "<Figure size 432x288 with 1 Axes>"
      ]
     },
     "metadata": {
      "needs_background": "light"
     },
     "output_type": "display_data"
    }
   ],
   "source": [
    "plt.imshow(img_tensor[0, 5:13, 5:13], cmap = 'gray')"
   ]
  },
  {
   "cell_type": "code",
   "execution_count": 16,
   "id": "784be5f7",
   "metadata": {},
   "outputs": [],
   "source": [
    "# now, we have to learn how to use training and validation sets.\n",
    "#Training set - used to train the model, i.e., compute the loss and adjust the model's weights using gradient descent.\n",
    "#Validation set - used to evaluate the model during training, adjust hyperparameters (learning rate, etc.), and pick the best version of the model.\n",
    "#Test set - used to compare different models or approaches and report the model's final accuracy.\n",
    "# random_split method let's us split data. \n",
    "\n",
    "from torch.utils.data import random_split"
   ]
  },
  {
   "cell_type": "code",
   "execution_count": 17,
   "id": "bb577df5",
   "metadata": {},
   "outputs": [],
   "source": [
    "train_data, validation_data = random_split(dataset, [50000, 10000])"
   ]
  },
  {
   "cell_type": "code",
   "execution_count": 18,
   "id": "ba57e05b",
   "metadata": {},
   "outputs": [],
   "source": [
    "# now we'll create batches of data to use in training\n",
    "# batch of data is essentially a heap of data\n",
    "\n",
    "batch_size = 128\n",
    "train_loader = DataLoader(train_data, batch_size, shuffle=True)\n",
    "val_loader = DataLoader(validation_data, batch_size)"
   ]
  },
  {
   "cell_type": "code",
   "execution_count": 19,
   "id": "6fc4955e",
   "metadata": {},
   "outputs": [],
   "source": [
    "# logistic regression contains bias and weights.\n",
    "# we will use nn.Linear to create model. this method expects a 1D vector,\n",
    "# so we have to flatten our tensors (28 * 28), making them a 784 vector\n",
    "\n",
    "import torch.nn as nn"
   ]
  },
  {
   "cell_type": "code",
   "execution_count": 20,
   "id": "47eb10ed",
   "metadata": {},
   "outputs": [],
   "source": [
    "input_size = 28 * 28\n",
    "num_classes = 10"
   ]
  },
  {
   "cell_type": "code",
   "execution_count": 49,
   "id": "4c729759",
   "metadata": {},
   "outputs": [
    {
     "data": {
      "text/plain": [
       "torch.Size([128, 784])"
      ]
     },
     "execution_count": 49,
     "metadata": {},
     "output_type": "execute_result"
    }
   ],
   "source": [
    "images.reshape(128, 784).shape"
   ]
  },
  {
   "cell_type": "code",
   "execution_count": 22,
   "id": "8a910322",
   "metadata": {},
   "outputs": [],
   "source": [
    "class MnistModel(nn.Module):\n",
    "    def __init__(self):\n",
    "        super().__init__()\n",
    "        self.linear = nn.Linear(input_size, num_classes)\n",
    "        \n",
    "    def forward(self, xb):\n",
    "        xb = xb.reshape(-1, 784)\n",
    "        out = self.linear(xb)\n",
    "        return out\n",
    "logistic_model = MnistModel()"
   ]
  },
  {
   "cell_type": "code",
   "execution_count": 23,
   "id": "0752dcec",
   "metadata": {},
   "outputs": [
    {
     "name": "stdout",
     "output_type": "stream",
     "text": [
      "torch.Size([128, 1, 28, 28])\n",
      "outputs.shape :  torch.Size([128, 10])\n",
      "Sample outputs : \n",
      " tensor([[-3.2611e-01, -2.7880e-01,  1.1804e-01, -5.9630e-02,  1.0410e-01,\n",
      "         -7.2004e-02, -4.0993e-02,  8.2067e-02, -4.7410e-02,  3.2639e-02],\n",
      "        [-2.3112e-01, -1.7909e-01, -4.9188e-02, -2.3669e-04, -6.7641e-02,\n",
      "          1.7172e-01,  1.2652e-01,  1.3423e-01, -2.0744e-01, -1.5555e-02]])\n"
     ]
    }
   ],
   "source": [
    "for images, labels in train_loader: \n",
    "    print(images.shape)\n",
    "    outputs = logistic_model(images)\n",
    "    break\n",
    "print('outputs.shape : ', outputs.shape)\n",
    "print('Sample outputs : \\n', outputs[:2].data)"
   ]
  },
  {
   "cell_type": "code",
   "execution_count": 24,
   "id": "4ec4f2de",
   "metadata": {},
   "outputs": [],
   "source": [
    "import torch.nn.functional as F"
   ]
  },
  {
   "cell_type": "code",
   "execution_count": 25,
   "id": "8ce004b5",
   "metadata": {},
   "outputs": [
    {
     "name": "stdout",
     "output_type": "stream",
     "text": [
      "Sample probs : \n",
      " tensor([[0.0750, 0.0787, 0.1170, 0.0980, 0.1154, 0.0967, 0.0998, 0.1129, 0.0992,\n",
      "         0.1074],\n",
      "        [0.0812, 0.0855, 0.0974, 0.1022, 0.0956, 0.1214, 0.1161, 0.1169, 0.0831,\n",
      "         0.1007]])\n"
     ]
    }
   ],
   "source": [
    "probs = F.softmax(outputs, dim = 1)\n",
    "\n",
    "print('Sample probs : \\n', probs[:2].data)"
   ]
  },
  {
   "cell_type": "code",
   "execution_count": 26,
   "id": "76ccdb6c",
   "metadata": {},
   "outputs": [
    {
     "name": "stdout",
     "output_type": "stream",
     "text": [
      "tensor([2, 5, 7, 7, 7, 9, 9, 6, 4, 5, 8, 7, 7, 0, 2, 2, 7, 7, 7, 2, 0, 2, 0, 7,\n",
      "        3, 7, 0, 9, 7, 2, 9, 6, 2, 2, 0, 9, 2, 9, 2, 4, 3, 2, 6, 3, 9, 9, 2, 9,\n",
      "        7, 0, 7, 9, 7, 6, 3, 7, 4, 0, 9, 3, 7, 7, 2, 7, 7, 2, 7, 9, 9, 6, 7, 2,\n",
      "        6, 6, 2, 7, 7, 9, 7, 2, 7, 7, 2, 2, 4, 7, 6, 5, 7, 0, 6, 9, 7, 6, 2, 7,\n",
      "        2, 6, 2, 3, 2, 7, 7, 6, 6, 2, 7, 6, 4, 6, 7, 7, 2, 9, 7, 7, 9, 7, 3, 7,\n",
      "        2, 2, 7, 7, 2, 7, 3, 6])\n",
      "tensor([0.1170, 0.1214, 0.1154, 0.1415, 0.1403, 0.1623, 0.1335, 0.1301, 0.1198,\n",
      "        0.1196, 0.1357, 0.1373, 0.1401, 0.1329, 0.1134, 0.1254, 0.1355, 0.1382,\n",
      "        0.1260, 0.1282, 0.1354, 0.1165, 0.1224, 0.1194, 0.1263, 0.1156, 0.1258,\n",
      "        0.1301, 0.1281, 0.1184, 0.1373, 0.1530, 0.1433, 0.1410, 0.1196, 0.1193,\n",
      "        0.1242, 0.1407, 0.1185, 0.1224, 0.1249, 0.1642, 0.1232, 0.1181, 0.1274,\n",
      "        0.1618, 0.1444, 0.1324, 0.1228, 0.1238, 0.1198, 0.1087, 0.1383, 0.1324,\n",
      "        0.1196, 0.1421, 0.1243, 0.1227, 0.1389, 0.1139, 0.1418, 0.1143, 0.1130,\n",
      "        0.1533, 0.1368, 0.1187, 0.1358, 0.1453, 0.1472, 0.1313, 0.1674, 0.1411,\n",
      "        0.1255, 0.1149, 0.1226, 0.1542, 0.1188, 0.1272, 0.1340, 0.1365, 0.1336,\n",
      "        0.1228, 0.1280, 0.1359, 0.1285, 0.1256, 0.1273, 0.1484, 0.1355, 0.1247,\n",
      "        0.1241, 0.1189, 0.1259, 0.1161, 0.1456, 0.1530, 0.1496, 0.1249, 0.1513,\n",
      "        0.1339, 0.1235, 0.1287, 0.1208, 0.1161, 0.1202, 0.1400, 0.1132, 0.1333,\n",
      "        0.1154, 0.1313, 0.1418, 0.1595, 0.1435, 0.1249, 0.1192, 0.1392, 0.1521,\n",
      "        0.1413, 0.1274, 0.1254, 0.1455, 0.1529, 0.1285, 0.1438, 0.1454, 0.1225,\n",
      "        0.1192, 0.1268], grad_fn=<MaxBackward0>)\n"
     ]
    }
   ],
   "source": [
    "max_probs, preds = torch.max(probs, dim = 1)\n",
    "print(preds)\n",
    "print(max_probs)"
   ]
  },
  {
   "cell_type": "code",
   "execution_count": 27,
   "id": "7e912c1c",
   "metadata": {},
   "outputs": [],
   "source": [
    "# does not work very well, the probabilitiess are very low. \n",
    "# well , we did not even train the model, so it is expected. \n",
    "# let's start the training by firstly defining evaluation metrics\n",
    "# first of which usually is the accuracy of a given model.\n",
    "\n",
    "def accuracy(outputs, labels):\n",
    "    _, preds = torch.max(outputs, dim = 1)\n",
    "    return torch.tensor(torch.sum(preds==labels).item()/len(preds))"
   ]
  },
  {
   "cell_type": "code",
   "execution_count": 28,
   "id": "8f62b493",
   "metadata": {},
   "outputs": [
    {
     "data": {
      "text/plain": [
       "tensor(0.0703)"
      ]
     },
     "execution_count": 28,
     "metadata": {},
     "output_type": "execute_result"
    }
   ],
   "source": [
    "# this will compute the average accuracy of our first batch of data\n",
    "accuracy(outputs, labels) "
   ]
  },
  {
   "cell_type": "code",
   "execution_count": 29,
   "id": "dd4afc70",
   "metadata": {},
   "outputs": [
    {
     "name": "stdout",
     "output_type": "stream",
     "text": [
      "tensor(2.3194, grad_fn=<NllLossBackward0>)\n"
     ]
    }
   ],
   "source": [
    "# whis is not very good. 10% of a correct guess on average is atrocious.\n",
    "# common classification problems loss function is a binary cross-entropy funcion\n",
    "\n",
    "# cross entropy is included in the torch.nn.functional and computes\n",
    "# a softmax internally, so we can just pass our data to the function\n",
    "# without needing to explicitly specify a softmax\n",
    "loss_funct = F.cross_entropy\n",
    "\n",
    "loss = loss_funct(outputs, labels)\n",
    "print(loss)\n",
    "\n",
    "# the result of a cross-entropy should be interpreted as e^(result).\n",
    "# it shows about 10%. the lower the loss, the better your model is. \n"
   ]
  },
  {
   "cell_type": "code",
   "execution_count": 30,
   "id": "72d4b8dd",
   "metadata": {},
   "outputs": [],
   "source": [
    "# pseudocode for the training function. some training functions are\n",
    "# written like that. maybe many, I do not really know for now. Huh.\n",
    "\n",
    "\n",
    "#for epoch in range(num_epochs):\n",
    "    # Training phase\n",
    "   # for batch in train_loader:\n",
    "        # Generate predictions\n",
    "        # Calculate loss\n",
    "        # Compute gradients\n",
    "        # Update weights\n",
    "        # Reset gradients\n",
    "    \n",
    "    # Validation phase\n",
    "    #for batch in val_loader:\n",
    "        # Generate predictions\n",
    "        # Calculate loss\n",
    "        # Calculate metrics (accuracy etc.)\n",
    "    # Calculate average validation loss & metrics\n",
    "    \n",
    "    # Log epoch, loss & metrics for inspection"
   ]
  },
  {
   "cell_type": "code",
   "execution_count": 31,
   "id": "bf4c9a80",
   "metadata": {},
   "outputs": [],
   "source": [
    "# we will use problem-independent parts in a function called \"fit\"\n",
    "# it will be used for our training\n",
    "# problem specific parts, on the other hand, will be implemented in a \n",
    "# nn.Module class extension\n",
    "\n",
    "def fit(epochs, lr, model, train_loader, val_loader, opt_funct = torch.optim.SGD):\n",
    "    optimizer = opt_funct(model.parameters(), lr)\n",
    "    history = [] #for the recording of results\n",
    "    \n",
    "    for epoch in range(epochs):\n",
    "    \n",
    "    # Training\n",
    "        for batch in train_loader:\n",
    "            loss = model.training_step(batch)\n",
    "            loss.backward()\n",
    "            optimizer.step()\n",
    "            optimizer.zero_grad()\n",
    "\n",
    "    # Validation\n",
    "        result = evaluate(model, val_loader)\n",
    "        model.epoch_end(epoch, result)\n",
    "        history.append(result)\n",
    "    \n",
    "    return history"
   ]
  },
  {
   "cell_type": "code",
   "execution_count": 32,
   "id": "7115facc",
   "metadata": {},
   "outputs": [],
   "source": [
    "# Configurations like batch size, learning rate, etc.(called hyperparameters)\n",
    "# , need to be picked in advance while training machine learning models.\n",
    "\n",
    "def evaluate(model, val_loader):\n",
    "    outputs = [model.validation_step(batch) for batch in val_loader]\n",
    "    return model.validation_epoch_end(outputs)"
   ]
  },
  {
   "cell_type": "code",
   "execution_count": 33,
   "id": "82d8424f",
   "metadata": {},
   "outputs": [],
   "source": [
    "class MnistModel(nn.Module):\n",
    "    def __init__(self):\n",
    "        super().__init__()\n",
    "        self.linear = nn.Linear(input_size, num_classes)\n",
    "        \n",
    "    def forward(self, xb):\n",
    "        xb = xb.reshape(-1, 784)\n",
    "        out = self.linear(xb)\n",
    "        return out\n",
    "    \n",
    "    def training_step(self, batch):\n",
    "        images, labels = batch\n",
    "        out = self(images)\n",
    "        loss = F.cross_entropy(out, labels)\n",
    "        return loss\n",
    "    def validation_step(self, batch):\n",
    "        images, labels = batch\n",
    "        out = self(images)\n",
    "        loss = F.cross_entropy(out, labels)\n",
    "        acc = accuracy(out, labels)\n",
    "        return {'val_loss':loss, 'val_acc':acc}\n",
    "    \n",
    "    def validation_epoch_end(self, outputs):\n",
    "        batch_losses = [x['val_loss'] for x in outputs]\n",
    "        epoch_loss = torch.stack(batch_losses).mean() #combine batch losses and find the average loss on 1 batch\n",
    "        batch_accs = [x['val_acc'] for x in outputs]\n",
    "        epoch_acc = torch.stack(batch_accs).mean() #combine the batch accuracies and find the average accuracy on 1 batch of data\n",
    "        return {'val_loss' : epoch_loss.item(), 'val_acc':epoch_acc.item()}\n",
    "    \n",
    "    def epoch_end(self, epoch, result):\n",
    "        print(\"Epoch [{}], val_loss: {:.4f}, val_acc: {:.4f}\".format(epoch, result['val_loss'], result['val_acc']))\n",
    "    \n",
    "model = MnistModel()"
   ]
  },
  {
   "cell_type": "code",
   "execution_count": 34,
   "id": "c63557be",
   "metadata": {},
   "outputs": [
    {
     "name": "stdout",
     "output_type": "stream",
     "text": [
      "{'val_loss': 2.3190975189208984, 'val_acc': 0.12440664321184158}\n"
     ]
    }
   ],
   "source": [
    "# let's run the model once before training it.\n",
    "# we will run the model on the validation set. \n",
    "intermediate_result = evaluate(model, val_loader)\n",
    "print(intermediate_result)"
   ]
  },
  {
   "cell_type": "code",
   "execution_count": 36,
   "id": "2daf157f",
   "metadata": {},
   "outputs": [
    {
     "name": "stdout",
     "output_type": "stream",
     "text": [
      "Epoch [0], val_loss: 1.9478, val_acc: 0.6080\n",
      "Epoch [1], val_loss: 1.6776, val_acc: 0.7375\n",
      "Epoch [2], val_loss: 1.4758, val_acc: 0.7763\n",
      "Epoch [3], val_loss: 1.3231, val_acc: 0.7968\n",
      "Epoch [4], val_loss: 1.2054, val_acc: 0.8080\n"
     ]
    }
   ],
   "source": [
    "# accuracy is about 10% and the loss is about 2.3, which does not\n",
    "# really say a lot to me\n",
    "\n",
    "# let's start training the model itself\n",
    "history1 = fit(5, 0.001, model, train_loader, val_loader)\n"
   ]
  },
  {
   "cell_type": "code",
   "execution_count": 38,
   "id": "d5f0a74a",
   "metadata": {},
   "outputs": [
    {
     "name": "stdout",
     "output_type": "stream",
     "text": [
      "Epoch [0], val_loss: 1.1128, val_acc: 0.8170\n",
      "Epoch [1], val_loss: 1.0383, val_acc: 0.8237\n",
      "Epoch [2], val_loss: 0.9775, val_acc: 0.8286\n",
      "Epoch [3], val_loss: 0.9267, val_acc: 0.8338\n",
      "Epoch [4], val_loss: 0.8837, val_acc: 0.8373\n"
     ]
    }
   ],
   "source": [
    "history2 = fit(5, 0.001, model, train_loader, val_loader)"
   ]
  },
  {
   "cell_type": "code",
   "execution_count": 39,
   "id": "d2a41ff5",
   "metadata": {},
   "outputs": [
    {
     "name": "stdout",
     "output_type": "stream",
     "text": [
      "Epoch [0], val_loss: 0.8470, val_acc: 0.8409\n",
      "Epoch [1], val_loss: 0.8151, val_acc: 0.8441\n",
      "Epoch [2], val_loss: 0.7873, val_acc: 0.8459\n",
      "Epoch [3], val_loss: 0.7626, val_acc: 0.8492\n",
      "Epoch [4], val_loss: 0.7407, val_acc: 0.8499\n",
      "Epoch [5], val_loss: 0.7210, val_acc: 0.8517\n",
      "Epoch [6], val_loss: 0.7033, val_acc: 0.8537\n",
      "Epoch [7], val_loss: 0.6872, val_acc: 0.8560\n",
      "Epoch [8], val_loss: 0.6725, val_acc: 0.8588\n",
      "Epoch [9], val_loss: 0.6590, val_acc: 0.8595\n",
      "Epoch [10], val_loss: 0.6466, val_acc: 0.8610\n",
      "Epoch [11], val_loss: 0.6351, val_acc: 0.8622\n",
      "Epoch [12], val_loss: 0.6245, val_acc: 0.8628\n",
      "Epoch [13], val_loss: 0.6147, val_acc: 0.8643\n",
      "Epoch [14], val_loss: 0.6054, val_acc: 0.8658\n"
     ]
    }
   ],
   "source": [
    "history3 = fit(15, 0.001, model, train_loader, val_loader)"
   ]
  },
  {
   "cell_type": "code",
   "execution_count": 40,
   "id": "9e61e4af",
   "metadata": {},
   "outputs": [
    {
     "data": {
      "text/plain": [
       "Text(0.5, 1.0, 'Accuracy VS. Number of Epochs')"
      ]
     },
     "execution_count": 40,
     "metadata": {},
     "output_type": "execute_result"
    },
    {
     "data": {
      "image/png": "[encoded data removed]",
      "text/plain": [
       "<Figure size 432x288 with 1 Axes>"
      ]
     },
     "metadata": {
      "needs_background": "light"
     },
     "output_type": "display_data"
    }
   ],
   "source": [
    "# as we can see, the accuracy gains are getting smaller and smaller.\n",
    "# it is expected.\n",
    "# let's plot the epoch VS accuracy dependency\n",
    "\n",
    "history = [intermediate_result] + history1 + history2+history3\n",
    "accuracies = [result['val_acc'] for result in history]\n",
    "plt.plot(accuracies, '-x')\n",
    "plt.xlabel('Epoch')\n",
    "plt.ylabel('Accuracy')\n",
    "plt.title('Accuracy VS. Number of Epochs')"
   ]
  },
  {
   "cell_type": "code",
   "execution_count": 41,
   "id": "70456423",
   "metadata": {},
   "outputs": [
    {
     "name": "stdout",
     "output_type": "stream",
     "text": [
      "Epoch [0], val_loss: 0.6011, val_acc: 0.8661\n",
      "Epoch [1], val_loss: 0.5968, val_acc: 0.8673\n",
      "Epoch [2], val_loss: 0.5927, val_acc: 0.8678\n",
      "Epoch [3], val_loss: 0.5888, val_acc: 0.8691\n",
      "Epoch [4], val_loss: 0.5849, val_acc: 0.8699\n"
     ]
    }
   ],
   "source": [
    "# I am dumb. the real epoch count is about 50, so the first better result\n",
    "# starts at about 26th epoch ran. There is a good chance of \n",
    "# 90% tho.\n",
    "\n",
    "# the learning rate might be too high. let's experiment a bit\n",
    "# it was about 0.0004% of accuracy added with each epoch before\n",
    "\n",
    "history2 = fit(5, 0.0005, model, train_loader, val_loader)"
   ]
  },
  {
   "cell_type": "code",
   "execution_count": null,
   "id": "990a6006",
   "metadata": {},
   "outputs": [],
   "source": [
    "# nothing really changed. so, it's not the learning rate\n",
    "# the model is likely to be too simple for this task\n",
    "# fuck, hehe...."
   ]
  },
  {
   "cell_type": "code",
   "execution_count": 42,
   "id": "a0af4aa7",
   "metadata": {},
   "outputs": [],
   "source": [
    "# the issue is that we assume a linear relationship between the pixel\n",
    "# color and the digit the image represents. it is a bad assumption\n",
    "# actually. it works fairly well for a simpler dataset such as MNIST\n",
    "# but is unlikely to be useful in more complicated ones."
   ]
  },
  {
   "cell_type": "code",
   "execution_count": 53,
   "id": "1ec0fa09",
   "metadata": {},
   "outputs": [
    {
     "data": {
      "text/plain": [
       "{'val_loss': 0.5697574019432068, 'val_acc': 0.8677734136581421}"
      ]
     },
     "execution_count": 53,
     "metadata": {},
     "output_type": "execute_result"
    }
   ],
   "source": [
    "test_loader = DataLoader(test_dataset, batch_size=256)\n",
    "result = evaluate(model, test_loader)\n",
    "result"
   ]
  },
  {
   "cell_type": "code",
   "execution_count": null,
   "id": "47a88608",
   "metadata": {},
   "outputs": [],
   "source": [
    "# how to save weights and biases so you don't have to re-train every model from scratch\n",
    "\n",
    "torch.save(improved_logistic_model.state_dict(), 'mnist_logistic.pth')\n"
   ]
  },
  {
   "cell_type": "code",
   "execution_count": 57,
   "id": "6b98e763",
   "metadata": {
    "collapsed": true
   },
   "outputs": [
    {
     "data": {
      "text/plain": [
       "OrderedDict([('linear.weight',\n",
       "              tensor([[-0.0011, -0.0318,  0.0285,  ...,  0.0156, -0.0327, -0.0071],\n",
       "                      [ 0.0048,  0.0007,  0.0288,  ...,  0.0176, -0.0059, -0.0152],\n",
       "                      [ 0.0125,  0.0333, -0.0171,  ...,  0.0119,  0.0185, -0.0347],\n",
       "                      ...,\n",
       "                      [ 0.0252, -0.0153,  0.0294,  ..., -0.0198,  0.0305, -0.0298],\n",
       "                      [-0.0039,  0.0314, -0.0036,  ...,  0.0043, -0.0267,  0.0337],\n",
       "                      [ 0.0101, -0.0304,  0.0123,  ...,  0.0258,  0.0194,  0.0231]])),\n",
       "             ('linear.bias',\n",
       "              tensor([-0.0440,  0.1093, -0.0223, -0.0239,  0.0048,  0.0572, -0.0219,  0.0287,\n",
       "                      -0.1385, -0.0016]))])"
      ]
     },
     "execution_count": 57,
     "metadata": {},
     "output_type": "execute_result"
    }
   ],
   "source": [
    "model.state_dict()"
   ]
  },
  {
   "cell_type": "code",
   "execution_count": 55,
   "id": "f57d2750",
   "metadata": {
    "collapsed": true
   },
   "outputs": [
    {
     "data": {
      "text/plain": [
       "OrderedDict([('linear.weight',\n",
       "              tensor([[-0.0205,  0.0237,  0.0057,  ...,  0.0321, -0.0335,  0.0261],\n",
       "                      [ 0.0028, -0.0315, -0.0249,  ...,  0.0309,  0.0303, -0.0089],\n",
       "                      [ 0.0229, -0.0121,  0.0244,  ..., -0.0116, -0.0106, -0.0238],\n",
       "                      ...,\n",
       "                      [-0.0262, -0.0306,  0.0041,  ..., -0.0218,  0.0141, -0.0063],\n",
       "                      [-0.0089, -0.0023,  0.0308,  ..., -0.0007, -0.0344,  0.0347],\n",
       "                      [ 0.0291,  0.0251,  0.0070,  ...,  0.0028, -0.0252,  0.0244]])),\n",
       "             ('linear.bias',\n",
       "              tensor([-0.0253, -0.0095, -0.0240,  0.0258,  0.0080,  0.0341,  0.0328,  0.0070,\n",
       "                      -0.0126, -0.0060]))])"
      ]
     },
     "execution_count": 55,
     "metadata": {},
     "output_type": "execute_result"
    }
   ],
   "source": [
    "model2 = MnistModel()\n",
    "model2.state_dict()"
   ]
  },
  {
   "cell_type": "code",
   "execution_count": 56,
   "id": "69ca0057",
   "metadata": {},
   "outputs": [
    {
     "data": {
      "text/plain": [
       "{'val_loss': 2.3286566734313965, 'val_acc': 0.06093750149011612}"
      ]
     },
     "execution_count": 56,
     "metadata": {},
     "output_type": "execute_result"
    }
   ],
   "source": [
    "evaluate(model2, test_loader)"
   ]
  },
  {
   "cell_type": "code",
   "execution_count": 58,
   "id": "b6a93267",
   "metadata": {},
   "outputs": [
    {
     "data": {
      "text/plain": [
       "OrderedDict([('linear.weight',\n",
       "              tensor([[-0.0236,  0.0288, -0.0217,  ...,  0.0136,  0.0006, -0.0136],\n",
       "                      [-0.0190,  0.0132,  0.0113,  ...,  0.0202, -0.0007, -0.0218],\n",
       "                      [-0.0132, -0.0218, -0.0010,  ..., -0.0153, -0.0063,  0.0181],\n",
       "                      ...,\n",
       "                      [-0.0276, -0.0264,  0.0022,  ..., -0.0292,  0.0128,  0.0271],\n",
       "                      [-0.0058,  0.0227, -0.0071,  ...,  0.0026,  0.0296, -0.0029],\n",
       "                      [-0.0187, -0.0077,  0.0120,  ...,  0.0344,  0.0055, -0.0185]])),\n",
       "             ('linear.bias',\n",
       "              tensor([-0.0604,  0.1518, -0.0523, -0.0237,  0.0329,  0.1023, -0.0154,  0.0959,\n",
       "                      -0.2036, -0.0311]))])"
      ]
     },
     "execution_count": 58,
     "metadata": {},
     "output_type": "execute_result"
    }
   ],
   "source": [
    "model2.load_state_dict(torch.load('mnist_logistic.pth'))\n",
    "model2.state_dict()"
   ]
  },
  {
   "cell_type": "code",
   "execution_count": 59,
   "id": "cc649932",
   "metadata": {},
   "outputs": [
    {
     "data": {
      "text/plain": [
       "{'val_loss': 0.461426317691803, 'val_acc': 0.88232421875}"
      ]
     },
     "execution_count": 59,
     "metadata": {},
     "output_type": "execute_result"
    }
   ],
   "source": [
    "test_loader = DataLoader(test_dataset, batch_size=256)\n",
    "result = evaluate(model2, test_loader)\n",
    "result"
   ]
  },
  {
   "cell_type": "code",
   "execution_count": 60,
   "id": "0110d330",
   "metadata": {},
   "outputs": [],
   "source": [
    "def predict_image(img, model):\n",
    "    xb = img.unsqueeze(0)\n",
    "    yb = model(xb)\n",
    "    _, preds = torch.max(yb, dim=1)\n",
    "    return preds[0].item()"
   ]
  },
  {
   "cell_type": "code",
   "execution_count": 61,
   "id": "88c066fa",
   "metadata": {},
   "outputs": [
    {
     "name": "stdout",
     "output_type": "stream",
     "text": [
      "Label: 7 , Predicted: 7\n"
     ]
    },
    {
     "data": {
      "image/png": "[encoded data removed]",
      "text/plain": [
       "<Figure size 432x288 with 1 Axes>"
      ]
     },
     "metadata": {
      "needs_background": "light"
     },
     "output_type": "display_data"
    }
   ],
   "source": [
    "img, label = test_dataset[0]\n",
    "plt.imshow(img[0], cmap='gray')\n",
    "print('Label:', label, ', Predicted:', predict_image(img, model))"
   ]
  },
  {
   "cell_type": "code",
   "execution_count": 62,
   "id": "3361ff6d",
   "metadata": {},
   "outputs": [
    {
     "name": "stdout",
     "output_type": "stream",
     "text": [
      "Label: 0 , Predicted: 0\n"
     ]
    },
    {
     "data": {
      "image/png": "[encoded data removed]",
      "text/plain": [
       "<Figure size 432x288 with 1 Axes>"
      ]
     },
     "metadata": {
      "needs_background": "light"
     },
     "output_type": "display_data"
    }
   ],
   "source": [
    "img, label = test_dataset[10]\n",
    "plt.imshow(img[0], cmap='gray')\n",
    "print('Label:', label, ', Predicted:', predict_image(img, model))"
   ]
  },
  {
   "cell_type": "code",
   "execution_count": 63,
   "id": "d94eb9ab",
   "metadata": {},
   "outputs": [
    {
     "name": "stdout",
     "output_type": "stream",
     "text": [
      "Label: 2 , Predicted: 7\n"
     ]
    },
    {
     "data": {
      "image/png": "[encoded data removed]",
      "text/plain": [
       "<Figure size 432x288 with 1 Axes>"
      ]
     },
     "metadata": {
      "needs_background": "light"
     },
     "output_type": "display_data"
    }
   ],
   "source": [
    "img, label = test_dataset[77]\n",
    "plt.imshow(img[0], cmap='gray')\n",
    "print('Label:', label, ', Predicted:', predict_image(img, model))"
   ]
  },
  {
   "cell_type": "code",
   "execution_count": 64,
   "id": "9261db16",
   "metadata": {},
   "outputs": [
    {
     "name": "stdout",
     "output_type": "stream",
     "text": [
      "Label: 6 , Predicted: 6\n"
     ]
    },
    {
     "data": {
      "image/png": "[encoded data removed]",
      "text/plain": [
       "<Figure size 432x288 with 1 Axes>"
      ]
     },
     "metadata": {
      "needs_background": "light"
     },
     "output_type": "display_data"
    }
   ],
   "source": [
    "img, label = test_dataset[100]\n",
    "plt.imshow(img[0], cmap='gray')\n",
    "print('Label:', label, ', Predicted:', predict_image(img, model))"
   ]
  },
  {
   "cell_type": "code",
   "execution_count": null,
   "id": "30b7dbe9",
   "metadata": {},
   "outputs": [],
   "source": []
  }
 ],
 "metadata": {
  "kernelspec": {
   "display_name": "Python 3 (ipykernel)",
   "language": "python",
   "name": "python3"
  },
  "language_info": {
   "codemirror_mode": {
    "name": "ipython",
    "version": 3
   },
   "file_extension": ".py",
   "mimetype": "text/x-python",
   "name": "python",
   "nbconvert_exporter": "python",
   "pygments_lexer": "ipython3",
   "version": "3.8.13"
  }
 },
 "nbformat": 4,
 "nbformat_minor": 5
}
